{
  "nbformat": 4,
  "nbformat_minor": 0,
  "metadata": {
    "colab": {
      "name": "열유체공학실험_2017034348_HW05",
      "provenance": [],
      "include_colab_link": true
    },
    "kernelspec": {
      "name": "python3",
      "display_name": "Python 3"
    }
  },
  "cells": [
    {
      "cell_type": "markdown",
      "metadata": {
        "id": "view-in-github",
        "colab_type": "text"
      },
      "source": [
        "<a href=\"https://colab.research.google.com/github/KimDonghyun17/HW/blob/master/%EC%97%B4%EC%9C%A0%EC%B2%B4%EA%B3%B5%ED%95%99%EC%8B%A4%ED%97%98_2017034348_HW05.ipynb\" target=\"_parent\"><img src=\"https://colab.research.google.com/assets/colab-badge.svg\" alt=\"Open In Colab\"/></a>"
      ]
    },
    {
      "cell_type": "code",
      "metadata": {
        "id": "b54S73_4Gqtq",
        "colab_type": "code",
        "colab": {}
      },
      "source": [
        "from mpl_toolkits import mplot3d\n",
        "\n",
        "%matplotlib inline\n",
        "import numpy as np\n",
        "import matplotlib.pyplot as plt\n",
        "\n",
        "def homework05():\n",
        "    theta = 2 * np.pi * np.random.random(1000)\n",
        "    r = 6 * np.random.random(1000)\n",
        "    x = np.ravel(r * np.sin(theta))\n",
        "    y = np.ravel(r * np.cos(theta))\n",
        "    z = np.exp(-0.1*x**2-0.1*y**2)\n",
        "    return x, y, z\n",
        "\n",
        "x, y, z = homework05()\n",
        "\n",
        "ax = plt.axes(projection='3d')\n",
        "ax.plot_trisurf(x, y, z,\n",
        "                cmap='viridis', edgecolor='none');\n",
        "ax.set_xlim(-5, 5); ax.set_ylim(-5, 5); ax.set_zlim(0, 1);"
      ],
      "execution_count": 0,
      "outputs": []
    }
  ]
}