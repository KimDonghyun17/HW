{
  "nbformat": 4,
  "nbformat_minor": 0,
  "metadata": {
    "colab": {
      "name": "20191113.ipynb",
      "provenance": [],
      "include_colab_link": true
    },
    "kernelspec": {
      "name": "python3",
      "display_name": "Python 3"
    }
  },
  "cells": [
    {
      "cell_type": "markdown",
      "metadata": {
        "id": "view-in-github",
        "colab_type": "text"
      },
      "source": [
        "<a href=\"https://colab.research.google.com/github/KimDonghyun17/HW/blob/master/20191113.ipynb\" target=\"_parent\"><img src=\"https://colab.research.google.com/assets/colab-badge.svg\" alt=\"Open In Colab\"/></a>"
      ]
    },
    {
      "cell_type": "code",
      "metadata": {
        "id": "3Be-qIBMngNb",
        "colab_type": "code",
        "colab": {}
      },
      "source": [
        "n, k = map(int, input(\"자연수와 k값을 각각 입력하시오: \").split(','))\n",
        "total = 0\n",
        "for i in range(1, n):\n",
        "  if i % k == 0:\n",
        "    total += i\n",
        "    \n",
        "print(\"Ans)\", total)\n",
        "\n",
        "#자연수와 k값을 각각 입력하시오: n,k\n",
        "#Ans) total"
      ],
      "execution_count": 0,
      "outputs": []
    },
    {
      "cell_type": "code",
      "metadata": {
        "id": "J_oDlHL7o7AV",
        "colab_type": "code",
        "colab": {}
      },
      "source": [
        "n, k = map(int, input(\"자연수와 진수를 각각 입력하시오: \").split(','))\n",
        "answer = \"\"\n",
        "while n // k >= 1:\n",
        "    remain = n % k\n",
        "    n = n // k\n",
        "    answer = str(remain) + answer\n",
        "    if n < k :\n",
        "        answer = str(n) + answer\n",
        "\n",
        "print(\"Ans)\", answer)\n",
        "\n",
        "#자연수와 진수를 각각 입력하시오: n,k\n",
        "#Ans) answer"
      ],
      "execution_count": 0,
      "outputs": []
    }
  ]
}