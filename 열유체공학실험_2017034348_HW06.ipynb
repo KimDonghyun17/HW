{
  "nbformat": 4,
  "nbformat_minor": 0,
  "metadata": {
    "colab": {
      "name": "열유체공학실험_2017034348_HW06.ipynb",
      "provenance": [],
      "include_colab_link": true
    },
    "kernelspec": {
      "name": "python3",
      "display_name": "Python 3"
    }
  },
  "cells": [
    {
      "cell_type": "markdown",
      "metadata": {
        "id": "view-in-github",
        "colab_type": "text"
      },
      "source": [
        "<a href=\"https://colab.research.google.com/github/KimDonghyun17/HW/blob/master/%EC%97%B4%EC%9C%A0%EC%B2%B4%EA%B3%B5%ED%95%99%EC%8B%A4%ED%97%98_2017034348_HW06.ipynb\" target=\"_parent\"><img src=\"https://colab.research.google.com/assets/colab-badge.svg\" alt=\"Open In Colab\"/></a>"
      ]
    },
    {
      "cell_type": "code",
      "metadata": {
        "id": "0ZWW3uCKhTdS",
        "colab_type": "code",
        "colab": {}
      },
      "source": [
        "from scipy.integrate import solve_ivp\n",
        "\n",
        "def dXdt( t, X ) :                              \n",
        "    return  X[1], -0.25*X[1]-X[0]\n",
        "\n",
        "# 초기값\n",
        "X0 = ( 10, 0 ) \n",
        "\n",
        "t0 = 0\n",
        "tend = 20\n",
        "\n",
        "sol = solve_ivp( dXdt, (t0, tend), X0, t_eval=np.linspace(t0,tend,101) )\n",
        "plt.plot( sol.t, sol.y[0] )\n",
        "plt.xlabel('t')\n",
        "plt.ylabel('y')\n",
        "plt.show()"
      ],
      "execution_count": 0,
      "outputs": []
    }
  ]
}