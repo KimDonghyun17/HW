{
  "nbformat": 4,
  "nbformat_minor": 0,
  "metadata": {
    "colab": {
      "name": "열유체공학실험_2017034348_HW04",
      "provenance": [],
      "include_colab_link": true
    },
    "kernelspec": {
      "name": "python3",
      "display_name": "Python 3"
    },
    "accelerator": "GPU"
  },
  "cells": [
    {
      "cell_type": "markdown",
      "metadata": {
        "id": "view-in-github",
        "colab_type": "text"
      },
      "source": [
        "<a href=\"https://colab.research.google.com/github/KimDonghyun17/HW/blob/master/%EC%97%B4%EC%9C%A0%EC%B2%B4%EA%B3%B5%ED%95%99%EC%8B%A4%ED%97%98_2017034348_HW04.ipynb\" target=\"_parent\"><img src=\"https://colab.research.google.com/assets/colab-badge.svg\" alt=\"Open In Colab\"/></a>"
      ]
    },
    {
      "cell_type": "code",
      "metadata": {
        "id": "o4RZIfH7JUvG",
        "colab_type": "code",
        "colab": {}
      },
      "source": [
        "# Python"
      ],
      "execution_count": 0,
      "outputs": []
    },
    {
      "cell_type": "code",
      "metadata": {
        "id": "ik5UdiEvJfxp",
        "colab_type": "code",
        "colab": {}
      },
      "source": [
        "dan=int(input('dan : '))\n",
        "\n",
        "def table_1(x):\n",
        "  for n in range(1,10):\n",
        "    print(dan,\"*\",n,\"=\",dan * n)\n",
        "    \n",
        "print(table_1(dan))"
      ],
      "execution_count": 0,
      "outputs": []
    },
    {
      "cell_type": "code",
      "metadata": {
        "id": "RH--jx0iJ5Pg",
        "colab_type": "code",
        "colab": {}
      },
      "source": [
        "%timeit table_1(dan)"
      ],
      "execution_count": 0,
      "outputs": []
    },
    {
      "cell_type": "code",
      "metadata": {
        "id": "KkoUkCPZLN6K",
        "colab_type": "code",
        "colab": {}
      },
      "source": [
        ""
      ],
      "execution_count": 0,
      "outputs": []
    },
    {
      "cell_type": "code",
      "metadata": {
        "id": "0JIdGfIHLDyZ",
        "colab_type": "code",
        "colab": {}
      },
      "source": [
        "# Numpy"
      ],
      "execution_count": 0,
      "outputs": []
    },
    {
      "cell_type": "code",
      "metadata": {
        "id": "nl9ms7-hLF6Q",
        "colab_type": "code",
        "colab": {}
      },
      "source": [
        "import numpy as np\n",
        "dan=int(input('dan : '))\n",
        "\n",
        "a = np.full((9,1),dan)\n",
        "b = (np.arange(1,10).reshape(9,1))\n",
        "\n",
        "print(np.hstack([a,b,a * b]))"
      ],
      "execution_count": 0,
      "outputs": []
    },
    {
      "cell_type": "code",
      "metadata": {
        "id": "eVgq0WwzME7Y",
        "colab_type": "code",
        "colab": {}
      },
      "source": [
        "%timeit np.hstack([a,b,a * b])"
      ],
      "execution_count": 0,
      "outputs": []
    },
    {
      "cell_type": "code",
      "metadata": {
        "id": "QE-uFPeIMbSI",
        "colab_type": "code",
        "colab": {}
      },
      "source": [
        ""
      ],
      "execution_count": 0,
      "outputs": []
    },
    {
      "cell_type": "code",
      "metadata": {
        "id": "Dv1sI5yXMba8",
        "colab_type": "code",
        "colab": {}
      },
      "source": [
        "# Numba"
      ],
      "execution_count": 0,
      "outputs": []
    },
    {
      "cell_type": "code",
      "metadata": {
        "id": "jZAj6SV7MhHi",
        "colab_type": "code",
        "colab": {}
      },
      "source": [
        "import numba\n",
        "print(numba.__version__)\n",
        "\n",
        "import numpy as np\n",
        "dan=int(input('dan : '))\n",
        "\n",
        "@numba.jit(\"int32(int32)\")\n",
        "def table_2(x):\n",
        "  for n in range(1,10):\n",
        "    print(dan,\"*\",n,\"=\",dan * n)\n",
        "    \n",
        "print(table_2(dan))"
      ],
      "execution_count": 0,
      "outputs": []
    },
    {
      "cell_type": "code",
      "metadata": {
        "id": "A1IThN4NNCzo",
        "colab_type": "code",
        "colab": {}
      },
      "source": [
        "%timeit table_2(dan)"
      ],
      "execution_count": 0,
      "outputs": []
    },
    {
      "cell_type": "code",
      "metadata": {
        "id": "X26jUd0NNMRO",
        "colab_type": "code",
        "colab": {}
      },
      "source": [
        ""
      ],
      "execution_count": 0,
      "outputs": []
    },
    {
      "cell_type": "code",
      "metadata": {
        "id": "ygyiUXEpNMaL",
        "colab_type": "code",
        "colab": {}
      },
      "source": [
        "# Cuda"
      ],
      "execution_count": 0,
      "outputs": []
    },
    {
      "cell_type": "code",
      "metadata": {
        "id": "25m-nJWPNVR4",
        "colab_type": "code",
        "colab": {}
      },
      "source": [
        "!find / -iname 'libdevice'\n",
        "!find / -iname 'libnvvm.so'\n",
        "\n",
        "import os\n",
        "os.environ['NUMBAPRO_LIBDEVICE'] = \"/usr/local/cuda-10.0/nvvm/libdevice\"\n",
        "os.environ['NUMBAPRO_NVVM'] = \"/usr/local/cuda-10.0/nvvm/lib64/libnvvm.so\"\n",
        "\n",
        "dan=int(input('dan = '))\n",
        "\n",
        "\n",
        "import numpy as np\n",
        "from numba import vectorize\n",
        "\n",
        "a = np.full((9,1),dan)\n",
        "b = (np.arange(1,10).reshape(9,1))\n",
        "\n",
        "@vectorize(['int64(int64, int64)'], target='cuda')\n",
        "def table_3(x, y):\n",
        "  return x * y\n",
        "\n",
        "print(np.hstack([a,b,table_3(a, b)]))"
      ],
      "execution_count": 0,
      "outputs": []
    },
    {
      "cell_type": "code",
      "metadata": {
        "id": "3Ze5oUj5OFiH",
        "colab_type": "code",
        "colab": {}
      },
      "source": [
        "%timeit table_3(a, b)"
      ],
      "execution_count": 0,
      "outputs": []
    }
  ]
}